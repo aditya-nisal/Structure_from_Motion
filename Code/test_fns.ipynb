{
 "cells": [
  {
   "cell_type": "code",
   "execution_count": null,
   "metadata": {},
   "outputs": [],
   "source": [
    "import random\n",
    "import os\n",
    "import cv2\n",
    "import numpy as np\n",
    "import matplotlib.pyplot as plt\n",
    "import matplotlib as mpl\n",
    "import time"
   ]
  },
  {
   "cell_type": "code",
   "execution_count": null,
   "metadata": {},
   "outputs": [],
   "source": [
    "from GetInliersRansac import GetInliersRansac\n",
    "from EssentialMatrixFromFundamentalMatrix import EssentialMatrixFromFundamentalMatrix\n",
    "from ExtractCameraPose import ExtractCameraPose\n",
    "from DisambiguateCameraPose import DisambiguateCameraPose\n",
    "from LinearTriangulation import LinearTriangulation\n",
    "from NonLinearTriangulation import NonlinearTriangulation\n",
    "from LinearPNP import LinearPnP\n",
    "from PNPRANSAC import PnPRANSAC, AllReprojetionError\n",
    "from NonLinearPNP import NonLinearPnP\n",
    "from BundleAdjustment import BundleAdjustment\n",
    "from Misc.utils import PlotFuncs\n",
    "from Misc.utils import MiscFuncs\n"
   ]
  },
  {
   "cell_type": "code",
   "execution_count": null,
   "metadata": {},
   "outputs": [
    {
     "name": "stdout",
     "output_type": "stream",
     "text": [
      "loaded images\n",
      "\n",
      "using correspondences from file matches12.txt\n",
      "performing RANSAC to obtain F matrix\n",
      "\n"
     ]
    }
   ],
   "source": [
    "\n",
    "path='/home/adinisal/adinisal_hw3/Data/Data/'\n",
    "\n",
    "# loading images\n",
    "misc_funcs = MiscFuncs()\n",
    "images = misc_funcs.load_images(path)\n",
    "# print(images[1])\n",
    "print(\"loaded images\\n\")\n",
    "\n",
    "# given camera calibration matrix\n",
    "K = np.array([\n",
    "            [568.996140852, 0, 643.21055941],\n",
    "            [0, 568.988362396, 477.982801038],\n",
    "            [0, 0, 1]\n",
    "            ])\n",
    "# define camera 1 as the world pose\n",
    "M1 = np.identity(4)\n",
    "M1 = M1[0:3, :]\n",
    "M1 = np.dot(K, M1)\n",
    "# for each image pairs compute F, E\n",
    "'''.............................get inliers and fundamental matrix using RANSAC...........................'''\n",
    "# load correspondences between image 1 and 2\n",
    "file_name = \"matches12.txt\"\n",
    "print(\"using correspondences from file \"+file_name)\n",
    "print(\"performing RANSAC to obtain F matrix\\n\")\n",
    "pts_from_txt = misc_funcs.get_pts_from_txt(path, file_name)\n",
    "pts_from_txt = np.array(pts_from_txt, np.float32)"
   ]
  },
  {
   "cell_type": "code",
   "execution_count": null,
   "metadata": {},
   "outputs": [
    {
     "name": "stdout",
     "output_type": "stream",
     "text": [
      "max inliers: {} 879\n",
      "pts_from_txt.shape =  (1426, 7)\n",
      "Max inliers.shape =  [[456.25 391.99 308.57 ...  90.    81.    59.  ]\n",
      " [456.25 391.99 308.57 ...  90.    81.    59.  ]\n",
      " [634.56 276.74 520.96 ... 229.   212.   202.  ]\n",
      " ...\n",
      " [539.07  53.05 414.95 ... 232.   223.   228.  ]\n",
      " [629.51  44.47 513.03 ... 234.   222.   212.  ]\n",
      " [577.08  27.16 456.18 ... 233.   249.   253.  ]]\n"
     ]
    }
   ],
   "source": [
    "max_inliers_locs, min_outliers_locs, F_max_inliers, pts_left, pts_right = GetInliersRansac(pts_from_txt)\n",
    "print(\"pts_from_txt.shape = \",pts_from_txt.shape)\n",
    "print(\"Max inliers.shape = \", max_inliers_locs.shape)"
   ]
  },
  {
   "cell_type": "code",
   "execution_count": 14,
   "metadata": {},
   "outputs": [
    {
     "name": "stdout",
     "output_type": "stream",
     "text": [
      "plotting correspondences between images 1 and 2\n",
      "\n"
     ]
    }
   ],
   "source": [
    "plot_funcs = PlotFuncs()\n",
    "print(\"plotting correspondences between images 1 and 2\\n\")\n",
    "plot_funcs.plot_img_correspondences(images[0], images[1], max_inliers_locs, min_outliers_locs, file_name, save=True)"
   ]
  },
  {
   "cell_type": "code",
   "execution_count": 17,
   "metadata": {},
   "outputs": [
    {
     "name": "stdout",
     "output_type": "stream",
     "text": [
      "estimating E matrx\n",
      "\n",
      "E =  [[ 0.02654929  0.73154416  0.32491785]\n",
      " [-0.8890472   0.05045153 -0.40888834]\n",
      " [-0.20835205  0.57776921  0.14559834]]\n",
      "C2_List =  [[-0.59880437 -0.19964979  0.77561156]\n",
      " [ 0.59880437  0.19964979 -0.77561156]\n",
      " [-0.59880437 -0.19964979  0.77561156]\n",
      " [ 0.59880437  0.19964979 -0.77561156]]\n",
      "R2_List =  [[[-0.48756398  0.36911882 -0.79122226]\n",
      "  [ 0.18538609 -0.841802   -0.50695305]\n",
      "  [-0.85317839 -0.39385365  0.34200284]]\n",
      "\n",
      " [[-0.48756398  0.36911882 -0.79122226]\n",
      "  [ 0.18538609 -0.841802   -0.50695305]\n",
      "  [-0.85317839 -0.39385365  0.34200284]]\n",
      "\n",
      " [[ 0.97474148  0.06015422 -0.21508258]\n",
      "  [-0.02295427  0.98492766  0.17143687]\n",
      "  [ 0.22215343 -0.16216957  0.96143064]]\n",
      "\n",
      " [[ 0.97474148  0.06015422 -0.21508258]\n",
      "  [-0.02295427  0.98492766  0.17143687]\n",
      "  [ 0.22215343 -0.16216957  0.96143064]]]\n"
     ]
    }
   ],
   "source": [
    "print(\"estimating E matrx\\n\")\n",
    "E = EssentialMatrixFromFundamentalMatrix(F_max_inliers, K)\n",
    "print(\"E = \", E)\n",
    "C2_list, R2_list = ExtractCameraPose(E)\n",
    "print(\"C2_List = \", C2_list)\n",
    "print(\"R2_List = \", R2_list)"
   ]
  }
 ],
 "metadata": {
  "kernelspec": {
   "display_name": "Python 3",
   "language": "python",
   "name": "python3"
  },
  "language_info": {
   "codemirror_mode": {
    "name": "ipython",
    "version": 3
   },
   "file_extension": ".py",
   "mimetype": "text/x-python",
   "name": "python",
   "nbconvert_exporter": "python",
   "pygments_lexer": "ipython3",
   "version": "3.10.6"
  },
  "orig_nbformat": 4
 },
 "nbformat": 4,
 "nbformat_minor": 2
}
